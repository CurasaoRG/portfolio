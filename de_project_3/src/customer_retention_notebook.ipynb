{
 "cells": [
  {
   "cell_type": "markdown",
   "metadata": {},
   "source": [
    "Создаем представление, в котором собраны кастомеры, количество покупок, возвратов, сгруппированные по week_id, customer_id, item_id. Выбираю week_id с учетом года, т.к. недель в году 52, добавляю к номеру года два разряда для хранения номера недели. "
   ]
  },
  {
   "cell_type": "code",
   "execution_count": null,
   "metadata": {
    "vscode": {
     "languageId": "sql"
    }
   },
   "outputs": [],
   "source": [
    "CREATE OR REPLACE VIEW view staging.customers_count as (\n",
    "\n",
    "        select week_id, item_id, customer_id, sum(case \n",
    "        when status = 'shipped' then 1\n",
    "        else 0\n",
    "        end) as shipped_qty, \n",
    "        sum(case \n",
    "        when status = 'refunded' then 1\n",
    "        else 0\n",
    "        end) as refunded_qty,\n",
    "        sum(case\n",
    "        when status = 'refunded' then payment_amount\n",
    "        else 0\n",
    "        end) as refunded,\n",
    "        sum(case \n",
    "            when status = 'shipped' then payment_amount\n",
    "            else 0\n",
    "        end) as payment_amount\n",
    "        from (\n",
    "        select \n",
    "        s.customer_id, s.payment_amount, s.item_id, \n",
    "        100*c.year_actual+c.week_of_year as week_id, \n",
    "        status\n",
    "        from mart.f_sales s\n",
    "        left join mart.d_calendar c\n",
    "        on s.date_id = c.date_id) all_cust\n",
    "        group by week_id, customer_id, item_id);\n"
   ]
  },
  {
   "cell_type": "markdown",
   "metadata": {},
   "source": [
    "Создаем представление для данных по новым клиентам, для этого забираем данные из вспомогательной таблицы с фильтром по количеству покупок строго равным одному. "
   ]
  },
  {
   "cell_type": "code",
   "execution_count": null,
   "metadata": {
    "vscode": {
     "languageId": "sql"
    }
   },
   "outputs": [],
   "source": [
    "CREATE or replace VIEW mart.f_new_customers as\n",
    "select week_id, item_id, count(customer_id) as new_customers_count, sum(payment_amount) as new_customers_revenue from staging.customers_count where shipped_qty = 1\n",
    "group by week_id, item_id;\n"
   ]
  },
  {
   "cell_type": "markdown",
   "metadata": {},
   "source": [
    "Создаем представление для данных по повторным клиентам, для этого забираем данные из вспомогательной таблицы с фильтром по количеству покупок больше одного. "
   ]
  },
  {
   "cell_type": "code",
   "execution_count": null,
   "metadata": {
    "vscode": {
     "languageId": "sql"
    }
   },
   "outputs": [],
   "source": [
    "CREATE or replace VIEW mart.f_returning_customers as\n",
    "select week_id, item_id, count(customer_id) as returning_customers_count, sum(payment_amount) as returning_customers_revenue from staging.customers_count where shipped_qty > 1\n",
    "group by week_id, item_id;"
   ]
  },
  {
   "cell_type": "markdown",
   "metadata": {},
   "source": [
    "Создаем представление для данных по возвратам, для этого забираем данные из вспомогательной таблицы с фильтром по количеству возвратов больше одного. В условиях не оговорено, нужно ли делать отделять клиентов с возвратами от всех остальных, поэтому эти группы могут пересекаться. "
   ]
  },
  {
   "cell_type": "code",
   "execution_count": null,
   "metadata": {
    "vscode": {
     "languageId": "sql"
    }
   },
   "outputs": [],
   "source": [
    "CREATE or replace VIEW mart.f_refunded_customers as\n",
    "select week_id, item_id, count(customer_id) as refunded_customers_count, sum(payment_amount) as customers_refunded from staging.customers_count where refunded_qty > 0\n",
    "group by week_id, item_id;"
   ]
  },
  {
   "cell_type": "markdown",
   "metadata": {},
   "source": [
    "Объединяем данные из представлений в витрину mart.f_customer_retention. Сначала создадим таблицу mart.f_customer_retention."
   ]
  },
  {
   "cell_type": "code",
   "execution_count": null,
   "metadata": {
    "vscode": {
     "languageId": "sql"
    }
   },
   "outputs": [],
   "source": [
    "create table if not exists mart.f_customer_retention (\n",
    "new_customers_count bigint default 0,\n",
    "returning_customers_count bigint default 0,\n",
    "refunded_customers_count bigint default 0,\n",
    "period_name varchar(7) default 'weekly',\n",
    "period_id bigint,\n",
    "item_id int4,\n",
    "new_customers_revenue numeric(10,2) default 0,\n",
    "returning_customers_revenue numeric (10,2) default 0,\n",
    "customers_refunded bigint default 0\n",
    ");"
   ]
  },
  {
   "cell_type": "markdown",
   "metadata": {},
   "source": [
    "А потом заполним её данными. Чтобы данные не дублировались и не терялись, объединяем по уникальным week_id и item_id из таблицы фактов f_sales. В некоторых строчках из-за этого возникнут нулевые значения. "
   ]
  },
  {
   "cell_type": "code",
   "execution_count": null,
   "metadata": {
    "vscode": {
     "languageId": "sql"
    }
   },
   "outputs": [],
   "source": [
    "with wi as (select \n",
    "distinct 100*c.year_actual+c.week_of_year as week_id, item_id\n",
    "from mart.f_sales s\n",
    "left join mart.d_calendar c\n",
    "on s.date_id = c.date_id)\n",
    "insert into  mart.f_customer_retention \n",
    "(new_customers_count, returning_customers_count, refunded_customers_count, \n",
    "period_id, item_id, \n",
    "new_customers_revenue, returning_customers_revenue, customers_refunded)\n",
    "(select nc.new_customers_count, rc.returning_customers_count, rfc.refunded_customers_count, wi.week_id as period_id, wi.item_id, \n",
    "nc.new_customers_revenue, rc.returning_customers_revenue, rfc.customers_refunded\n",
    "from wi left join mart.f_new_customers nc \n",
    "on wi.week_id = nc.week_id and wi.item_id = nc.item_id\n",
    "left join mart.f_returning_customers rc\n",
    "on wi.week_id = rc.week_id and wi.item_id = rc.item_id\n",
    "left join mart.f_refunded_customers rfc\n",
    "on wi.week_id = rfc.week_id and wi.item_id = rfc.item_id);"
   ]
  }
 ],
 "metadata": {
  "kernelspec": {
   "display_name": "Python 3.10.7 64-bit",
   "language": "python",
   "name": "python3"
  },
  "language_info": {
   "name": "python",
   "version": "3.10.7"
  },
  "orig_nbformat": 4,
  "vscode": {
   "interpreter": {
    "hash": "54075607cb87cea8fab985442b37939ae83010d20d8f4f54f53fdf66929f50ea"
   }
  }
 },
 "nbformat": 4,
 "nbformat_minor": 2
}
